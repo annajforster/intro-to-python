{
 "cells": [
  {
   "cell_type": "code",
   "execution_count": 2,
   "metadata": {},
   "outputs": [],
   "source": [
    "import numpy as np\n",
    "import pandas as pd\n",
    "# Synthetic dataset generation for demonstration\n",
    "np.random.seed(42)\n",
    "n_samples = 1000\n",
    "\n",
    "hrs_studied = np.random.uniform(0,8,n_samples)\n",
    "prev_score = np.random.uniform(0,7,n_samples)\n",
    "sleep = np.random.normal(7,1,n_samples)\n",
    "practice_exam_hrs = hrs_studied/2+np.random.normal(0,1,n_samples)\n",
    "living_at_home = np.random.randint(0,2,n_samples)\n",
    "hrs_exercising = np.random.uniform(0,2,n_samples)\n",
    "\n",
    "performance = hrs_studied*5+prev_score*3+sleep*0.1+practice_exam_hrs*0.1+living_at_home*2+hrs_exercising*1 + np.random.normal(0,7,n_samples)\n",
    "\n",
    "challenge_df = pd.DataFrame({\n",
    "    \"HoursStudied\":hrs_studied,\n",
    "    \"PrevScore\": prev_score,\n",
    "    \"HoursSleep\":sleep,\n",
    "    \"PracticeExamHrs\": practice_exam_hrs,\n",
    "    \"LivingAtHome\" : living_at_home,\n",
    "    \"HoursExercising\" : hrs_exercising,\n",
    "    \"Performance\" : performance\n",
    "})\n"
   ]
  }
 ],
 "metadata": {
  "kernelspec": {
   "display_name": "Python 3.9.6 64-bit",
   "language": "python",
   "name": "python3"
  },
  "language_info": {
   "codemirror_mode": {
    "name": "ipython",
    "version": 3
   },
   "file_extension": ".py",
   "mimetype": "text/x-python",
   "name": "python",
   "nbconvert_exporter": "python",
   "pygments_lexer": "ipython3",
   "version": "3.9.6"
  },
  "orig_nbformat": 4,
  "vscode": {
   "interpreter": {
    "hash": "11938c6bc6919ae2720b4d5011047913343b08a43b18698fd82dedb0d4417594"
   }
  }
 },
 "nbformat": 4,
 "nbformat_minor": 2
}
