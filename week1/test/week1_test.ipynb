{
 "cells": [
  {
   "cell_type": "code",
   "execution_count": 2,
   "metadata": {},
   "outputs": [],
   "source": [
    "import io\n",
    "import sys\n",
    "\n",
    "# colours\n",
    "RED = '\\033[91m'\n",
    "GREEN = '\\033[92m'\n",
    "RESET = '\\033[0m'  # Reset color"
   ]
  },
  {
   "cell_type": "code",
   "execution_count": 1,
   "metadata": {},
   "outputs": [],
   "source": [
    "# test greet person function\n",
    "def test_greet_person():\n",
    "    # Save the current state of stdout\n",
    "    original_stdout = sys.stdout\n",
    "\n",
    "    def run_test(name, known_names, expected_output, test_number):\n",
    "        try:\n",
    "            # Capture the output of greet_person\n",
    "            captured_output = io.StringIO()\n",
    "            sys.stdout = captured_output\n",
    "\n",
    "            # Run function and capture output\n",
    "            greet_person(name, known_names)\n",
    "\n",
    "            # Reset stdout to its original state before printing the result\n",
    "            sys.stdout = original_stdout\n",
    "\n",
    "            # Check the output and print the result\n",
    "            if captured_output.getvalue().strip() == expected_output:\n",
    "                print(f\"{GREEN}Test {test_number} Passed{RESET}\")\n",
    "            else:\n",
    "                print(f\"{RED}Test {test_number} Failed: Expected '{expected_output}' but got '{captured_output.getvalue().strip()}'{RESET}\")\n",
    "        finally:\n",
    "            # Ensure stdout is reset even if there's an error\n",
    "            sys.stdout = original_stdout\n",
    "\n",
    "    # Running the tests\n",
    "    run_test('Alice', ['Bob', 'Carol'], \"Hello Alice, it's nice to meet you!\", 1)\n",
    "    run_test('Bob', ['Alice', 'Bob', 'Carol'], \"Hello Bob, it's nice to see you again!\", 2)\n"
   ]
  },
  {
   "cell_type": "code",
   "execution_count": 2,
   "metadata": {},
   "outputs": [],
   "source": [
    "def test_phone_book():\n",
    "    def run_test(test_number, description, test_function):\n",
    "        try:\n",
    "            test_function()\n",
    "            print(f\"{GREEN}Test {test_number} Passed: {description}{RESET}\")\n",
    "        except AssertionError as e:\n",
    "            print(f\"{RED}Test {test_number} Failed: {description}. {str(e)}{RESET}\")\n",
    "\n",
    "    def test_add_contact():\n",
    "        phone_book = {}\n",
    "        add_contact(phone_book, 'Alice', '123-456-7890')\n",
    "        assert phone_book.get('Alice') == '123-456-7890', \"Alice should be added with her number\"\n",
    "\n",
    "    def test_get_contact():\n",
    "        phone_book = {'Alice': '123-456-7890'}\n",
    "        result = get_contact(phone_book, 'Alice')\n",
    "        assert result == '123-456-7890', \"Should return Alice's phone number\"\n",
    "\n",
    "    def test_overwrite_contact():\n",
    "        phone_book = {'Alice': '123-456-7890'}\n",
    "        add_contact(phone_book, 'Alice', '234-567-8901', overwrite=True)\n",
    "        assert phone_book.get('Alice') == '234-567-8901', \"Alice's number should be overwritten\"\n",
    "\n",
    "    def test_not_overwrite_contact():\n",
    "        phone_book = {'Alice': '123-456-7890'}\n",
    "        add_contact(phone_book, 'Alice', '234-567-8901', overwrite=False)\n",
    "        assert phone_book.get('Alice') == '123-456-7890', \"Alice's original number should not be overwritten\"\n",
    "\n",
    "\n",
    "    def test_remove_contact():\n",
    "        phone_book = {'Alice': '123-456-7890'}\n",
    "        remove_contact(phone_book, 'Alice')\n",
    "        assert 'Alice' not in phone_book, \"Alice should be removed from the phone book\"\n",
    "\n",
    "    def test_remove_nonexistent_contact():\n",
    "        phone_book = {}\n",
    "        result = remove_contact(phone_book, 'Charlie')\n",
    "        assert result == False, \"Should return False for non-existent contacts\"\n",
    "\n",
    "    # Running the tests\n",
    "    run_test(1, \"Adding a contact\", test_add_contact)\n",
    "    run_test(2, \"Overwriting a contact's number\", test_overwrite_contact)\n",
    "    run_test(3, \"Getting a contact's phone number\", test_get_contact)\n",
    "    run_test(4, \"Not overwriting a contact's number\", test_not_overwrite_contact)\n",
    "    run_test(5, \"Removing a contact\", test_remove_contact)\n",
    "    run_test(6, \"Removing a non-existent contact\", test_remove_nonexistent_contact)\n"
   ]
  },
  {
   "cell_type": "code",
   "execution_count": 1,
   "metadata": {},
   "outputs": [],
   "source": [
    "def test_count_unique_chars():\n",
    "    def run_test(test_number, description, sentence, expected_output):\n",
    "        try:\n",
    "            result = count_unique_chars(sentence)\n",
    "            assert result == expected_output, f\"Expected {expected_output}, got {result}\"\n",
    "            print(f\"{GREEN}Test {test_number} Passed: {description}{RESET}\")\n",
    "        except AssertionError as e:\n",
    "            print(f\"{RED}Test {test_number} Failed: {description}. {str(e)}{RESET}\")\n",
    "\n",
    "    # Running the tests with explicit sentences and expected outputs\n",
    "    run_test(1, \"Unique characters in a simple sentence\", 'hello world', {'hello': 4, 'world': 5})\n",
    "    run_test(2, \"Sentence with repeated words\", 'hello hello', {'hello': 4})\n",
    "    run_test(3, \"Sentence with a single word\", 'hello', {'hello': 4})\n",
    "    run_test(4, \"Empty sentence\", '', {})\n",
    "    run_test(5, \"Sentence with different length words\", 'hi world', {'hi': 2, 'world': 5})\n"
   ]
  },
  {
   "cell_type": "code",
   "execution_count": null,
   "metadata": {},
   "outputs": [],
   "source": []
  }
 ],
 "metadata": {
  "kernelspec": {
   "display_name": "Python 3.9.6 64-bit",
   "language": "python",
   "name": "python3"
  },
  "language_info": {
   "codemirror_mode": {
    "name": "ipython",
    "version": 3
   },
   "file_extension": ".py",
   "mimetype": "text/x-python",
   "name": "python",
   "nbconvert_exporter": "python",
   "pygments_lexer": "ipython3",
   "version": "3.9.6"
  },
  "vscode": {
   "interpreter": {
    "hash": "11938c6bc6919ae2720b4d5011047913343b08a43b18698fd82dedb0d4417594"
   }
  }
 },
 "nbformat": 4,
 "nbformat_minor": 2
}
