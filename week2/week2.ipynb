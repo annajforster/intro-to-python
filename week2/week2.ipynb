{
 "cells": [
  {
   "cell_type": "code",
   "execution_count": 1,
   "metadata": {},
   "outputs": [],
   "source": [
    "# SETUP CODE - PlEASE RUN THIS ONCE WHEN YOU STARTUP YOUR CODESPACE\n",
    "\n",
    "# RUN TEST FILE\n",
    "%run 'test/week2_test.ipynb'"
   ]
  },
  {
   "cell_type": "markdown",
   "metadata": {},
   "source": [
    "# Week 2 - Coding Best Practices - Object Orientated Programming, Debugging, Testing and Version Control "
   ]
  },
  {
   "cell_type": "markdown",
   "metadata": {},
   "source": [
    "## Object Orientated Programming (OOP)\n",
    "### Definition and Importance of OOP\n",
    "Object-Oriented Programming (OOP) is a programming paradigm centered around the concept of \"objects\". These objects can contain data, in the form of fields (often known as attributes or properties), and code, in the form of procedures (often known as methods). In OOP, computer programs are designed by making them out of objects that interact with one another. Unlike procedural programming, which structures programs as sequences of instructions, OOP structures programs as collections of objects that can communicate and interact. This approach to programming is well-suited for programs that are large, complex, and actively updated or maintained.\n",
    "\n",
    "OOP has become a fundamental part of modern software development due to its ability to encapsulate data and operations on data in objects, making it easier to structure and maintain complex programs. OOP principles such as inheritance, polymorphism, and encapsulation allow for code reuse and design patterns, leading to more efficient and manageable codebases. It supports modularity and scalability, making it easier to solve complex problems by breaking them down into smaller, inter-operable objects. OOP languages, like Java, C++, and Python, are widely used in various applications ranging from web and mobile apps to game development and scientific computing, underlining the paradigm's versatility and adaptability in the ever-evolving tech landscape.\n",
    "\n",
    "### Brief History of OOP\n",
    "Object-Oriented Programming (OOP) evolved as a response to the increasing complexity of software systems. In the early days of programming, procedural approaches were common, but they often led to issues like code duplication and difficulty in managing large codebases. The concept of organizing software around data structures and the operations that can be performed on them led to the development of OOP. The key idea was to bundle data and the methods that operate on the data into one unit, known as an object, making it easier to track and manage related functionality.\n",
    "\n",
    "- **Simula (1960s)**: Often regarded as the first object-oriented programming language, Simula introduced key concepts like classes, objects, inheritance, and dynamic binding.\n",
    "- **Smalltalk (1970s)**: This language further popularized OOP and introduced the concept of message passing, an important aspect of OOP in terms of object interaction.\n",
    "- **C++ (1980s)**: Developed as an extension of the C language, C++ added object-oriented features to a widely used programming language, significantly boosting the popularity of OOP.\n",
    "- **Java (1990s)**: Designed with a focus on portability across platforms, Java's \"Write Once, Run Anywhere\" philosophy and its robust OOP capabilities made it a staple in enterprise software development.\n",
    "- **Python**: While not exclusively an OOP language, Python supports OOP principles and is known for its easy-to-read syntax, making it a popular choice for teaching and implementing OOP concepts.\n",
    "## Classes and Objects\n",
    "\n",
    "### What are Classes and Objects?\n",
    "In Object-Oriented Programming, a **class** is a blueprint for creating objects. It defines a set of attributes and methods that the created objects (instances) can use. An **object** is an instance of a class. It contains real values instead of the variable placeholders that are defined in the class.\n",
    "\n",
    "### Creating a Simple Class in Python\n",
    "To create a class in Python, you use the `class` keyword. Below is an example of a simple class named `Car`. This class will have two attributes, `make` and `model`\n"
   ]
  },
  {
   "cell_type": "code",
   "execution_count": null,
   "metadata": {},
   "outputs": [],
   "source": [
    "class Car:\n",
    "    def __init__(self, make, model):\n",
    "        self.make = make\n",
    "        self.model = model"
   ]
  },
  {
   "cell_type": "markdown",
   "metadata": {},
   "source": [
    "In this example, the __init__ method is a special method called a constructor. It is called when a new object of the class is created and initializes the attributes of the class.\n",
    "### Instantiating Objects from a Class\n",
    "Once you have a class, you can create objects (instances) from it. Here's how you can create objects of the Car class."
   ]
  },
  {
   "cell_type": "code",
   "execution_count": 1,
   "metadata": {},
   "outputs": [
    {
     "ename": "NameError",
     "evalue": "name 'Car' is not defined",
     "output_type": "error",
     "traceback": [
      "\u001b[1;31m---------------------------------------------------------------------------\u001b[0m",
      "\u001b[1;31mNameError\u001b[0m                                 Traceback (most recent call last)",
      "Cell \u001b[1;32mIn[1], line 2\u001b[0m\n\u001b[0;32m      1\u001b[0m \u001b[39m# Creating two car objects\u001b[39;00m\n\u001b[1;32m----> 2\u001b[0m car1 \u001b[39m=\u001b[39m Car(\u001b[39m\"\u001b[39m\u001b[39mToyota\u001b[39m\u001b[39m\"\u001b[39m, \u001b[39m\"\u001b[39m\u001b[39mCorolla\u001b[39m\u001b[39m\"\u001b[39m)\n\u001b[0;32m      3\u001b[0m car2 \u001b[39m=\u001b[39m Car(\u001b[39m\"\u001b[39m\u001b[39mHonda\u001b[39m\u001b[39m\"\u001b[39m, \u001b[39m\"\u001b[39m\u001b[39mCivic\u001b[39m\u001b[39m\"\u001b[39m)\n\u001b[0;32m      5\u001b[0m \u001b[39m# Accessing object attributes\u001b[39;00m\n",
      "\u001b[1;31mNameError\u001b[0m: name 'Car' is not defined"
     ]
    }
   ],
   "source": [
    "# Creating two car objects\n",
    "car1 = Car(\"Toyota\", \"Corolla\")\n",
    "car2 = Car(\"Honda\", \"Civic\")\n",
    "\n",
    "# Accessing object attributes\n",
    "print(car1.make, car1.model)  # Output: Toyota Corolla\n",
    "print(car2.make, car2.model)  # Output: Honda Civic\n"
   ]
  },
  {
   "cell_type": "markdown",
   "metadata": {},
   "source": [
    "In this example, car1 and car2 are objects of the Car class, each with its own make and model attributes. The values of these attributes are set when the objects are created and can be accessed using the dot notation.\n",
    "\n",
    "## Attributes and Methods\n",
    "\n",
    "### Understanding Class Attributes and Instance Attributes\n",
    "In Python, there are two types of attributes in a class: class attributes and instance attributes. \n",
    "\n",
    "- **Class attributes** are shared by all instances of the class. They are defined directly in the class, outside of any methods.\n",
    "- **Instance attributes** are unique to each instance (object) of the class. They are usually defined within the `__init__` method and are accessed using the `self` keyword.\n",
    "\n",
    "#### Example of Class and Instance Attributes\n"
   ]
  },
  {
   "cell_type": "code",
   "execution_count": null,
   "metadata": {},
   "outputs": [],
   "source": [
    "class Dog:\n",
    "    # Class attribute\n",
    "    species = \"Canis familiaris\"\n",
    "\n",
    "    def __init__(self, name, age):\n",
    "        # Instance attributes\n",
    "        self.name = name\n",
    "        self.age = age\n",
    "\n",
    "# Creating an instance of Dog\n",
    "my_dog = Dog(\"Buddy\", 4)\n",
    "\n",
    "# Accessing instance attributes\n",
    "print(f\"My dog's name is {my_dog.name} and he is {my_dog.age} years old.\")\n",
    "\n",
    "# Accessing class attribute\n",
    "print(f\"My dog belongs to the species {Dog.species}.\")"
   ]
  },
  {
   "cell_type": "markdown",
   "metadata": {},
   "source": [
    "### Defining Methods Within a Class\n",
    "Methods in a class are functions that belong to the class. They are used to define the behaviors of the objects.\n"
   ]
  },
  {
   "cell_type": "code",
   "execution_count": null,
   "metadata": {},
   "outputs": [],
   "source": [
    "class Dog:\n",
    "    species = \"Canis familiaris\"\n",
    "\n",
    "    def __init__(self, name, age):\n",
    "        self.name = name\n",
    "        self.age = age\n",
    "\n",
    "    # Instance method\n",
    "    def description(self):\n",
    "        return f\"{self.name} is {self.age} years old.\"\n",
    "\n",
    "# Creating an instance of Dog\n",
    "my_dog = Dog(\"Buddy\", 4)\n",
    "\n",
    "# Calling the instance method\n",
    "print(my_dog.description())"
   ]
  },
  {
   "cell_type": "markdown",
   "metadata": {},
   "source": [
    "## The 4 Fundmental Pillars of OOP\n",
    "### 1. Encapsulation\n",
    "Encapsulation is a fundamental concept in object-oriented programming. It involves bundling the data (attributes) and methods that act on the data into a single unit, a class. Encapsulation also restricts direct access to some of the object's components, which is a means of preventing accidental interference and misuse of the methods and data\n",
    "### 2. Inheritence\n",
    "Inheritance is a mechanism in object-oriented programming that allows a new class to inherit properties and methods from an existing class. The new class is called a subclass, and the existing class is known as the superclass or parent class.\n",
    "### 3. Polymorphism\n",
    "Polymorphism in OOP is the ability of different classes to be treated as instances of the same class through a common interface. This allows functions to use objects of different classes without needing to know their specific class types. Polymorphism is closely related to inheritance and is a key feature in achieving flexibility and reusability in code.\n",
    "### 4. Abstraction\n",
    "Abstraction in OOP is the concept of hiding the complex reality while exposing only the necessary parts. It’s about creating a simple model that represents more complex underlying code and data. This is important for managing large applications, where the details of how things work are hidden, and only the necessary information is exposed.\n",
    "#### Learn More\n",
    "If you would like to learn more about OOP, there are many LinkedIn Learning course, Youtube videos and Articles available online that teach OOP."
   ]
  },
  {
   "cell_type": "markdown",
   "metadata": {},
   "source": [
    "# Challenge Question 1\n",
    "Write a Python program to create a class representing a Cylinder. Include methods to calculate its surface area and volume."
   ]
  },
  {
   "cell_type": "code",
   "execution_count": null,
   "metadata": {},
   "outputs": [],
   "source": [
    "class Cylinder:\n",
    "    \n",
    "    def __init__(self, radius, height):\n",
    "        # initalise the radius and height of the Cylinder object (Hint: you will need to use self.radius)\n",
    "    \n",
    "    \n",
    "    def surface_area(self):\n",
    "      # Calculate and return the surface area of the Cylinder \n",
    "        return \n",
    "      \n",
    "    # Define a function to calculate volume\n",
    "    # Within the function calculate and return the volume of the Cylinder"
   ]
  },
  {
   "cell_type": "code",
   "execution_count": null,
   "metadata": {},
   "outputs": [],
   "source": [
    "# Test your code here\n"
   ]
  },
  {
   "cell_type": "code",
   "execution_count": null,
   "metadata": {},
   "outputs": [],
   "source": [
    "test_cylinder_class()"
   ]
  },
  {
   "cell_type": "markdown",
   "metadata": {},
   "source": [
    "## Debugging in Python\n",
    "\n",
    "Debugging is an essential part of the development process. It involves identifying and fixing bugs or defects in your code. Python provides several tools and techniques for effective debugging.\n",
    "\n",
    "### The First Computer Bug\n",
    "![Alt text](https://images.nationalgeographic.org/image/upload/t_edhub_resource_key_image/v1638888858/EducationHub/photos/computer-bug.jpg)\n"
   ]
  },
  {
   "cell_type": "markdown",
   "metadata": {},
   "source": [
    "### Print Statements\n",
    "One of the simplest methods of debugging is to use print statements to output the values of variables at different points in your program."
   ]
  },
  {
   "cell_type": "code",
   "execution_count": 2,
   "metadata": {},
   "outputs": [
    {
     "name": "stdout",
     "output_type": "stream",
     "text": [
      "Checking: 3\n",
      "Checking: 1\n",
      "Checking: 4\n",
      "Checking: 1\n",
      "Checking: 5\n",
      "Checking: 9\n",
      "Checking: 2\n",
      "Checking: 6\n",
      "The maximum number is 9\n"
     ]
    }
   ],
   "source": [
    "def find_max(numbers):\n",
    "    max_num = numbers[0]\n",
    "    for num in numbers:\n",
    "        print(f\"Checking: {num}\")  # Debugging print\n",
    "        if num > max_num:\n",
    "            max_num = num\n",
    "    return max_num\n",
    "\n",
    "numbers = [3, 1, 4, 1, 5, 9, 2, 6]\n",
    "print(f\"The maximum number is {find_max(numbers)}\")"
   ]
  },
  {
   "cell_type": "markdown",
   "metadata": {},
   "source": [
    "### Using Python's Built-in Debugger (pdb)\n",
    "Python comes with a built-in debugger called pdb, which allows you to set breakpoints and step through the code interactively."
   ]
  },
  {
   "cell_type": "code",
   "execution_count": null,
   "metadata": {},
   "outputs": [],
   "source": [
    "# dont' run this code in your notebook it will crash\n",
    "\"\"\"\n",
    "import pdb\n",
    "\n",
    "def find_max(numbers):\n",
    "    max_num = numbers[0]\n",
    "    for num in numbers:\n",
    "        pdb.set_trace()  # Set a breakpoint here\n",
    "        if num > max_num:\n",
    "            max_num = num\n",
    "    return max_num\n",
    "\n",
    "numbers = [3, 1, 4, 1, 5, 9, 2, 6]\n",
    "print(f\"The maximum number is {find_max(numbers)}\")\n",
    "\"\"\""
   ]
  },
  {
   "cell_type": "markdown",
   "metadata": {},
   "source": [
    "### Using IDEs for Debugging\n",
    "Modern Integrated Development Environments (IDEs) like PyCharm, VS Code, or Eclipse with PyDev offer advanced debugging capabilities. They provide a graphical interface for setting breakpoints, stepping through the code, inspecting variables, and more."
   ]
  },
  {
   "cell_type": "markdown",
   "metadata": {},
   "source": [
    "#### Example\n",
    "Set a breakpoint in your IDE at a specific line by clicking next to the line number.\n",
    "Run your script in debug mode.\n",
    "Use the IDE's interface to step through the code, inspect variables, and watch expressions."
   ]
  },
  {
   "cell_type": "markdown",
   "metadata": {},
   "source": [
    "### Common Debugging Techniques\n",
    "- Break Down the Problem: Simplify the code to isolate the bug.\n",
    "- Check for Typos: Syntax errors or misnamed variables can often cause bugs.\n",
    "- Read Error Messages: They often point you to the source of the problem.\n",
    "- Check External Resources: Ensure files, databases, or network resources are accessible and correct.\n",
    "- **Rubber Duck Debugging: Explain your code to someone else (or a rubber duck) to gain new insights.**"
   ]
  },
  {
   "cell_type": "markdown",
   "metadata": {},
   "source": [
    "### Types of Python Errors\n",
    "\n",
    "#### Syntax Errors\n",
    "\n",
    "Syntax errors occur when the Python interpreter encounters code that doesn't follow the rules of the Python language syntax. These errors are detected before the program actually runs.\n",
    "\n",
    "##### Common Causes:\n",
    "- Missing punctuation, such as a colon : at the end of a def statement.\n",
    "- Incorrect indentation.\n",
    "- Mismatched or missing brackets ((), {}, [])."
   ]
  },
  {
   "cell_type": "code",
   "execution_count": 1,
   "metadata": {},
   "outputs": [
    {
     "ename": "SyntaxError",
     "evalue": "unexpected EOF while parsing (3994824381.py, line 2)",
     "output_type": "error",
     "traceback": [
      "\u001b[1;36m  Cell \u001b[1;32mIn[1], line 2\u001b[1;36m\u001b[0m\n\u001b[1;33m    print(\"Hello world\"  # Missing closing parenthesis\u001b[0m\n\u001b[1;37m                                                      ^\u001b[0m\n\u001b[1;31mSyntaxError\u001b[0m\u001b[1;31m:\u001b[0m unexpected EOF while parsing\n"
     ]
    }
   ],
   "source": [
    "# Example\n",
    "print(\"Hello world\"  # Missing closing parenthesis"
   ]
  },
  {
   "cell_type": "markdown",
   "metadata": {},
   "source": [
    "#### Runtime Errors\n",
    "\n",
    "Runtime errors happen while the program is running after it has successfully passed the syntax check. These errors are often referred to as exceptions."
   ]
  },
  {
   "cell_type": "markdown",
   "metadata": {},
   "source": [
    "- Common Runtime Errors:\n",
    "    - NameError: Occurs when a variable or function name is not recognized by Python.\n",
    "    - TypeError: Happens when an operation or function is applied to an object of an inappropriate type.\n",
    "    - IndexError: Raised when trying to access an item at an index that does not exist in a list, tuple, or string.\n",
    "    - KeyError: Occurs when a dictionary key is not found.\n",
    "    - AttributeError: Raised when an attribute reference or assignment fails.\n",
    "    - ValueError: Happens when a function receives an argument of the correct type but an inappropriate value.\n",
    "    - ZeroDivisionError: Occurs when attempting to divide by zero."
   ]
  },
  {
   "cell_type": "code",
   "execution_count": 3,
   "metadata": {},
   "outputs": [
    {
     "ename": "IndexError",
     "evalue": "list index out of range",
     "output_type": "error",
     "traceback": [
      "\u001b[1;31m---------------------------------------------------------------------------\u001b[0m",
      "\u001b[1;31mIndexError\u001b[0m                                Traceback (most recent call last)",
      "Cell \u001b[1;32mIn[3], line 3\u001b[0m\n\u001b[0;32m      1\u001b[0m \u001b[39m# example\u001b[39;00m\n\u001b[0;32m      2\u001b[0m numbers \u001b[39m=\u001b[39m [\u001b[39m1\u001b[39m, \u001b[39m2\u001b[39m, \u001b[39m3\u001b[39m]\n\u001b[1;32m----> 3\u001b[0m \u001b[39mprint\u001b[39m(numbers[\u001b[39m3\u001b[39;49m])  \u001b[39m# IndexError as index 3 does not exist\u001b[39;00m\n",
      "\u001b[1;31mIndexError\u001b[0m: list index out of range"
     ]
    }
   ],
   "source": [
    "# example\n",
    "numbers = [1, 2, 3]\n",
    "print(numbers[3])  # IndexError as index 3 does not exist"
   ]
  },
  {
   "cell_type": "markdown",
   "metadata": {},
   "source": [
    "### Logical Errors\n",
    "\n",
    "Logical errors happen when the syntax is correct but the code does not perform as expected due to a flaw in logic."
   ]
  },
  {
   "cell_type": "markdown",
   "metadata": {},
   "source": [
    "- Common Logical Errors:\n",
    "\n",
    "    - Using the wrong operator or variables.\n",
    "    - Incorrect implementation of an algorithm.\n",
    "    - Failure to account for all possible cases in a conditional or loop."
   ]
  },
  {
   "cell_type": "code",
   "execution_count": null,
   "metadata": {},
   "outputs": [],
   "source": [
    "# Example\n",
    "def divide(a, b):\n",
    "    return a * b  # Incorrect operation for division\n",
    "\n",
    "print(divide(10, 2))  # Expected output is 5 but will output 20"
   ]
  },
  {
   "cell_type": "markdown",
   "metadata": {},
   "source": [
    "# Challenge Question 2\n",
    "Below is a Python script that contains multiple errors, including syntax errors, logical errors, and runtime errors. Your task is to debug the script, ensuring it runs correctly and produces the expected output. The script is intended to perform the following tasks:\n",
    "\n",
    "1. Define a function to calculate the factorial of a number.\n",
    "2. Define a function to check if a word is a palindrome.\n",
    "3. Execute a series of operations that utilize these functions."
   ]
  },
  {
   "cell_type": "code",
   "execution_count": null,
   "metadata": {},
   "outputs": [],
   "source": [
    "# factorial function uses recursion - recursion is when a function calls itself\n",
    "def factorial(n):\n",
    "    # Calculate the factorial of n\n",
    "    if n == 0 or n == 1\n",
    "        return 1\n",
    "    else:\n",
    "        return n + factorial(n - 1)\n",
    "\n",
    "def is_palindrome(word):\n",
    "    # Check if a word is a palindrome\n",
    "    return word == word[::1]"
   ]
  },
  {
   "cell_type": "code",
   "execution_count": null,
   "metadata": {},
   "outputs": [],
   "source": [
    "# Test out your code here"
   ]
  },
  {
   "cell_type": "code",
   "execution_count": null,
   "metadata": {},
   "outputs": [],
   "source": [
    "test_debugging()"
   ]
  },
  {
   "cell_type": "markdown",
   "metadata": {},
   "source": [
    "# Testing in Python\n",
    "Testing is a critical part of software development that helps ensure your code works as expected and remains robust over time. In Python, there are several ways to write and run tests, ranging from simple assertions to more complex test frameworks."
   ]
  },
  {
   "cell_type": "markdown",
   "metadata": {},
   "source": [
    "### Types of Tests\n",
    "1. Unit Testing\n",
    "Description: Testing individual components or functions of a program in isolation.\n",
    "Tools: Python’s built-in unittest library, pytest, nose2.\n",
    "Usage: Writing test cases for each function or method to ensure they work correctly under various conditions.\n",
    "\n",
    "2. Integration Testing\n",
    "Description: Testing the integration of different units or components to ensure they work together as expected.\n",
    "Usage: Combining individual units and testing them as a group.\n",
    "\n",
    "3. Functional Testing\n",
    "Description: Testing the application against its functional requirements.\n",
    "Usage: Ensuring the software behaves as expected from an end user's perspective."
   ]
  },
  {
   "cell_type": "markdown",
   "metadata": {},
   "source": [
    "### Writing Tests in Python\n",
    "Using assert Statements\n",
    "- Simplest form of testing.\n",
    "- Syntax: assert condition, message\n",
    "- Usage Example:"
   ]
  },
  {
   "cell_type": "code",
   "execution_count": null,
   "metadata": {},
   "outputs": [],
   "source": [
    "def add(a, b):\n",
    "    return a + b\n",
    "\n",
    "assert add(2, 3) == 5, \"Should be 5\"\n"
   ]
  },
  {
   "cell_type": "markdown",
   "metadata": {},
   "source": [
    "### Using the unit test framework"
   ]
  },
  {
   "cell_type": "code",
   "execution_count": null,
   "metadata": {},
   "outputs": [],
   "source": [
    "import unittest\n",
    "\n",
    "def add(x, y):\n",
    "    return x + y\n",
    "\n",
    "class TestAddition(unittest.TestCase):\n",
    "    def test_add(self):\n",
    "        self.assertEqual(add(2, 3), 5)\n",
    "\n",
    "# Running the tests\n",
    "if __name__ == '__main__':\n",
    "    unittest.main(argv=['first-arg-is-ignored'], exit=False)\n"
   ]
  },
  {
   "cell_type": "markdown",
   "metadata": {},
   "source": [
    "# Version Control"
   ]
  },
  {
   "cell_type": "markdown",
   "metadata": {},
   "source": [
    "## What is Version Control?\n",
    "Version control is a system that tracks changes to your files over time. It allows you to:\n",
    "\n",
    "1. Save versions of your project at various stages.\n",
    "2. Revert back to earlier versions if something goes wrong.\n",
    "3. Collaborate with others by sharing and integrating code changes.\n",
    "4. A version control system (VCS) enables teams of developers (or individuals) to collaborate on projects, keep track of different versions of their code, and manage changes.\n",
    "\n",
    "![basic-workflow](img/GitRepoBasicLayout.png)\n",
    "\n",
    "\n",
    "## Basic Git Workflow\n",
    "A typical Git workflow involves the following steps:\n",
    "\n",
    "1. Initialize a repository\n",
    "2. Stage changes\n",
    "3. Commit changes\n",
    "4. Work with branches\n",
    "5. Push to remote repository (e.g., GitHub, Gitea)\n",
    "6. Pull from remote repository\n",
    "\n",
    "\n",
    "## Further Reading\n",
    "1. [What is version control](https://www.atlassian.com/git/tutorials/what-is-version-control) Introduction to version control and how to use it.\n",
    "2. [Git Commands](https://www.git-tower.com/learn/git/commands/) A comprehensive guide on Git commands with examples and visual aids.\n",
    "3. [Git Commands Cheat Sheet](https://www.geeksforgeeks.org/git-cheat-sheet/) A comprehensive cheat sheet of most of the Git commands.\n",
    "4. [Branching Model](https://nvie.com/posts/a-successful-git-branching-model/) A visual representation and accompanying description of how branching should look in Git.\n",
    "5. [Git Guide](https://rogerdudler.github.io/git-guide/) A visually pleasing and simple guide to Git and the different commands.\n"
   ]
  },
  {
   "cell_type": "markdown",
   "metadata": {},
   "source": [
    "### 1. Initializing a Git Repository \n",
    "To start tracking a project with Git, you need to initialise a Git repository. This can be done through an online platform, such as Gitea and GitHub, or locally on your machine. It is more common to initialise the repository through Gitea or GitHub. Hosting the repository through an online platform allows collaborate on the same code. This is where version control truly shines.\n",
    "\n",
    "```shell\n",
    "git init \n",
    "```\n",
    "\n",
    "\n",
    "\n",
    "### Difference Between Gitea and GitHub\n",
    "\n",
    "**Gitea** is a self-hosted, open-source Git service. It is designed to provide a lightweight and easy-to-deploy platform for managing Git repositories, similar to GitHub, but with the flexibility of hosting it on your own server. \n",
    "EQL hosts its own Gitea server that is used by some teams within the business. You do not need to complete any serviceNow requests to get access to it, making it more usable by most teams.\n",
    "[EQL Gitea](http://smartweb.myergon.local:3000/)\n",
    "\n",
    "**GitHub** is a popular cloud-based Git repository hosting service that offers a wide range of features for version control, collaboration, and project management. It is widely used by developers and companies to manage both open-source and private code repositories. EQL also has an Enterprise account with GitHub that some teams use instead of Gitea. You must complete a serviceNow request for you to create a company profile in GitHub that gives you access to the Enterprise content. [EQL GitHub](https://github.com/enterprises/energy-queensland-limited) "
   ]
  },
  {
   "cell_type": "markdown",
   "metadata": {},
   "source": [
    "### 2. Stage Changes\n",
    "Once you have made changes to files, Git will not automatically track those changes. You need to add them to the staging area, a space where you prepare changes before committing. The staging area is like a buffer or holding area for changes. This allows you to control what exactly goes into the next commit.\n",
    "\n",
    "```shell\n",
    "git add <file>\n",
    "git add *\n",
    "```"
   ]
  },
  {
   "cell_type": "markdown",
   "metadata": {},
   "source": [
    "### 3. Commit Changes\n",
    "Once you have staged the files, you commit them to the repository. A commit in Git is a snapshot of your project at a particular point in time. Each commit includes a message describing the changes made. Commits are the core of Git version control. Every commit represents a complete snapshot of your project's state at that moment. Commit messages are important. They should be concise but descriptive enough to explain the purpose of the changes.\n",
    "```shell\n",
    "git commit -m \"Your descriptive commit message\"\n",
    "```"
   ]
  },
  {
   "cell_type": "markdown",
   "metadata": {},
   "source": [
    "### 4. Work with Branches\n",
    "A branch in Git is a way to work on different versions of your project simultaneously. By default, your repository has a **main** (or **master**) branch. You can create new branches to work on features, experiments, or fixes without affecting the main codebase. The main branch should always be kept in a stable state. Any new work should be done on separate branches. Once your work on a branch is complete, you can merge it back into the main branch.\n",
    "\n",
    "Create a new branch\n",
    "```shell\n",
    "git branch <new-branch-name>  \n",
    "```\n",
    "Switch to specified branch\n",
    "```shell\n",
    "git checkout <branch-name>   \n",
    "```\n",
    "Create and switch to new branch\n",
    "```shell\n",
    "git checkout -b <new-branch-name>  \n",
    "```\n",
    "Merge the specified branch into the current branch\n",
    "```shell\n",
    "git merge <branch>   \n",
    "```"
   ]
  },
  {
   "cell_type": "markdown",
   "metadata": {},
   "source": [
    "### 5. Push to a Remote Repository\n",
    "Once you have made changes locally (commited them to your branch), you will likely want to share them with others or back them up. You can do this by pushing your changes to a remote repository like GitHub or Gitea. The remote repository is usually the first thing that gets set up, and you 'clone' the repository to create a local copy.\n",
    "```shell\n",
    "git push origin <branch-name>\n",
    "```\n",
    "\n",
    "\n",
    "<font color='yellow'>*DO NOT push to the intro-to-python repository*</font> "
   ]
  },
  {
   "cell_type": "markdown",
   "metadata": {},
   "source": [
    "### 6. Pulling Changes from a Remote Repository\n",
    "When collaborating with others or working across multiple devices, you will want to ensure your local repository is up to date with the latest changes from the remote repository. Pulling fetches the latest changes from the remote repository and merges them into your current branch. Before pushing new changes, it is a good habit to pull the latest changes form the remote repository to avoid conflicts.\n",
    "\n",
    "Another usefull command is the fetch command. Fetch downloads updates from the remote repository and stores all the changes in a separate branch called the remote-tracking branch, whilst keeping your working directory unchanged. This allows you to review updates from the remote repository without immediately merging them into your branch.\n",
    "\n",
    "```shell\n",
    "git pull\n",
    "git fetch\n",
    "```"
   ]
  },
  {
   "cell_type": "markdown",
   "metadata": {},
   "source": [
    "### Full Git Workflow\n",
    "![git-workflow](https://cloudstudio.com.au/wp-content/uploads/2021/06/GitWorkflow-4.png)"
   ]
  },
  {
   "cell_type": "markdown",
   "metadata": {},
   "source": [
    "## Challenge Question 3\n",
    "For this challenge question there won't be as much coding involved. It is mainly for you to practice some of the procedures and methods explained in the Version Control section above. In most instances whilst working at EQL, you will not need to use the bash commands to track changes in a repository. Rather, you will use VS Code's Source Control Graphical User Interface (GUI), or the Git GUI software. Rather than typing out a couple of lines of code in a terminal you can press a couple of pretty buttons!\n",
    "\n",
    "Your task is to:\n",
    "\n",
    "1. Initialise a repository online within your personal Git profile\n",
    "2. Create a Codespace for the repository and open it. This is similar to cloning a repository, but rather than creating a local copy, you are creating an online copy. \n",
    "\n",
    "![creating-codespace](img/creatingCodespace.PNG)\n",
    "\n",
    "3. Whilst within the codespace, create a new file and call it happy_dogs.py \n",
    "4. Add in some code to the file\n",
    "5. Stage the changes. Click on the Source Control Section on the left, or use the hotkey CTRL+SHIFT+G. Right click on the 'Changes' section and click 'stage all changes'\n",
    "6. Commit the changes, making sure to add in a commit message.\n",
    "7. Push the changes back to the remote repository (You can click the 'Sync Changes' button).\n",
    "8. Check that the file is now in your GitHub Repository.\n",
    "9. Create a new branch and name it small-branch\n",
    "10. Add a new .py file whilst in this branch then stage, commit and push changes to the GitHub repository.\n",
    "11. Verify that whilst in the main branch you should only have one file, then whilst in the small-branch you should have two files\n",
    "\n",
    "![main-branch](img/mainbranch.PNG) ![secondary-branch](img/branch.PNG)\n",
    "\n",
    "12. Optionally: Merge the changes from the small-branch onto the main branch and push these changes.\n",
    "\n",
    "\n",
    "\n",
    "\n"
   ]
  },
  {
   "cell_type": "markdown",
   "metadata": {},
   "source": []
  }
 ],
 "metadata": {
  "kernelspec": {
   "display_name": "Python 3",
   "language": "python",
   "name": "python3"
  },
  "language_info": {
   "codemirror_mode": {
    "name": "ipython",
    "version": 3
   },
   "file_extension": ".py",
   "mimetype": "text/x-python",
   "name": "python",
   "nbconvert_exporter": "python",
   "pygments_lexer": "ipython3",
   "version": "3.12.1"
  },
  "orig_nbformat": 4
 },
 "nbformat": 4,
 "nbformat_minor": 2
}
