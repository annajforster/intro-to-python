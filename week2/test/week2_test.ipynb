{
 "cells": [
  {
   "cell_type": "code",
   "execution_count": 1,
   "metadata": {},
   "outputs": [],
   "source": [
    "import io\n",
    "import sys\n",
    "import math\n",
    "\n",
    "# colours\n",
    "RED = '\\033[91m'\n",
    "GREEN = '\\033[92m'\n",
    "RESET = '\\033[0m'  # Reset color"
   ]
  },
  {
   "cell_type": "code",
   "execution_count": 2,
   "metadata": {},
   "outputs": [],
   "source": [
    "def test_cylinder_class():\n",
    "    \n",
    "    def run_test(test_number, description, test_function):\n",
    "        try:\n",
    "            test_function()\n",
    "            print(f\"{GREEN}Test {test_number} Passed: {description}{RESET}\")\n",
    "        except AssertionError as e:\n",
    "            print(f\"{RED}Test {test_number} Failed: {description}. {str(e)}{RESET}\")\n",
    "\n",
    "    def test_volume():\n",
    "        radius = 5\n",
    "        height = 10\n",
    "        test_cylinder = Cylinder(radius,height)\n",
    "\n",
    "        volume = test_cylinder.volume()\n",
    "        assert math.isclose(volume,785.4,rel_tol=1e-1), f\"For radius 5 and height 10, returned volume: {volume}, should be: 785.4\"\n",
    "\n",
    "    def test_volume_2():\n",
    "        radius = 20\n",
    "        height = 3.2\n",
    "        test_cylinder = Cylinder(radius,height)\n",
    "\n",
    "        volume = test_cylinder.volume()\n",
    "        assert math.isclose(volume,4021.2,rel_tol=1e-1), f\"For radius 20 and height 3.2, returned volume: {volume}, should be: 4021.2\"\n",
    "\n",
    "\n",
    "    def test_surface_area():\n",
    "        radius = 5\n",
    "        height = 10\n",
    "        test_cylinder = Cylinder(radius,height)\n",
    "\n",
    "        surface_area = test_cylinder.surface_area()\n",
    "        assert math.isclose(surface_area,785.4,rel_tol=1e-1), f\"For radius 5 and height 10, returned surface area: {surface_area}, should be: 471.2\"\n",
    "\n",
    "    def test_surface_area_2():\n",
    "        radius = 20\n",
    "        height = 3.2\n",
    "        test_cylinder = Cylinder(radius,height)\n",
    "\n",
    "        surface_area = test_cylinder.surface_area()\n",
    "        assert math.isclose(surface_area,4021.2,rel_tol=1e-1), f\"For radius 20 and height 3.2, returned surface area: {surface_area}, should be: 2915.4\"\n",
    "\n",
    "    run_test(1,\"Volume Test 1\", test_volume)    \n",
    "    run_test(2,\"Volume Test 2\", test_volume_2)   \n",
    "    run_test(3,\"Surface Area Test 1\", test_surface_area)   \n",
    "    run_test(4,\"Surface Area Test 2\", test_surface_area_2)   \n"
   ]
  }
 ],
 "metadata": {
  "kernelspec": {
   "display_name": "Python 3.9.6 64-bit",
   "language": "python",
   "name": "python3"
  },
  "language_info": {
   "codemirror_mode": {
    "name": "ipython",
    "version": 3
   },
   "file_extension": ".py",
   "mimetype": "text/x-python",
   "name": "python",
   "nbconvert_exporter": "python",
   "pygments_lexer": "ipython3",
   "version": "3.9.6"
  },
  "orig_nbformat": 4,
  "vscode": {
   "interpreter": {
    "hash": "11938c6bc6919ae2720b4d5011047913343b08a43b18698fd82dedb0d4417594"
   }
  }
 },
 "nbformat": 4,
 "nbformat_minor": 2
}
